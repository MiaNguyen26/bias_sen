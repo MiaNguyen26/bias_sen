{
 "cells": [
  {
   "cell_type": "code",
   "execution_count": 23,
   "metadata": {},
   "outputs": [
    {
     "ename": "SyntaxError",
     "evalue": "invalid syntax (2998079896.py, line 44)",
     "output_type": "error",
     "traceback": [
      "\u001b[0;36m  File \u001b[0;32m\"/tmp/ipykernel_28448/2998079896.py\"\u001b[0;36m, line \u001b[0;32m44\u001b[0m\n\u001b[0;31m    },\u001b[0m\n\u001b[0m     ^\u001b[0m\n\u001b[0;31mSyntaxError\u001b[0m\u001b[0;31m:\u001b[0m invalid syntax\n"
     ]
    }
   ],
   "source": [
    "import json\n",
    "import pandas as pd\n",
    "\n",
    "data = [\n",
    "{\n",
    "    \"id\": \"TrustYou_Survey_4\",\n",
    "    \"text\": \"Phong dep , do an ngon , nhan vien than thien\",\n",
    "    \"labels\": [\n",
    "        {\n",
    "            \"aspect\": \"Tiện nghi/thoải mái chung\",\n",
    "            \"entity\": {\n",
    "                \"token\": \"Phong\",\n",
    "                \"span\": [\n",
    "                    0,\n",
    "                    5\n",
    "                ]\n",
    "            },\n",
    "            \"polarity\": \"Positive\",\n",
    "            \"oe_term\": {\n",
    "                \"token\": \"dep\",\n",
    "                \"span\": [\n",
    "                    6,\n",
    "                    9\n",
    "                ]\n",
    "            }\n",
    "        },\n",
    "        {\n",
    "            \"aspect\": \"Ăn uống\",\n",
    "            \"entity\": {\n",
    "                \"token\": \"do an\",\n",
    "                \"span\": [\n",
    "                    12,\n",
    "                    17\n",
    "                ]\n",
    "            },\n",
    "            \"polarity\": \"Positive\",\n",
    "            \"oe_term\": {\n",
    "                \"token\": \"ngon\",\n",
    "                \"span\": [\n",
    "                    18,\n",
    "                    22\n",
    "                ]\n",
    "            }\n",
    "        },\n",
    "        {\n",
    "            \"aspect\": \"Thái độ nhân viên\",\n",
    "            \"entity\": {\n",
    "                \"token\": \"nhan vien\",\n",
    "                \"span\": [\n",
    "                    25,\n",
    "                    34\n",
    "                ]\n",
    "            },\n",
    "            \"polarity\": \"Positive\",\n",
    "            \"oe_term\": {\n",
    "                \"token\": \"than thien\",\n",
    "                \"span\": [\n",
    "                    35,\n",
    "                    45\n",
    "                ]\n",
    "            }\n",
    "        }\n",
    "    ]\n",
    "}\n",
    "]\n"
   ]
  },
  {
   "cell_type": "code",
   "execution_count": 31,
   "metadata": {},
   "outputs": [
    {
     "name": "stdout",
     "output_type": "stream",
     "text": [
      "                  id                                           text  \\\n",
      "0  TrustYou_Survey_4  Phong dep , do an ngon , nhan vien than thien   \n",
      "1  TrustYou_Survey_4  Phong dep , do an ngon , nhan vien than thien   \n",
      "2  TrustYou_Survey_4  Phong dep , do an ngon , nhan vien than thien   \n",
      "\n",
      "                      aspect  polarity entity.token entity.span oe_term.token  \\\n",
      "0  Tiện nghi/thoải mái chung  Positive        Phong      [0, 5]           dep   \n",
      "1                    Ăn uống  Positive        do an    [12, 17]          ngon   \n",
      "2          Thái độ nhân viên  Positive    nhan vien    [25, 34]    than thien   \n",
      "\n",
      "  oe_term.span  \n",
      "0       [6, 9]  \n",
      "1     [18, 22]  \n",
      "2     [35, 45]  \n"
     ]
    }
   ],
   "source": [
    "# f = open('test1.json')\n",
    "# data = json.load(f)\n",
    "# result =  pd.json_normalize(data, ['id', 'text'], ['labels'])\n",
    "result = pd.json_normalize(data, meta =['id', 'text'], record_path=['labels'])\n",
    "cols = result.columns.tolist()\n",
    "cols = cols[-2:]  + cols[:-2]\n",
    "re = result[cols]\n",
    "print(re)"
   ]
  }
 ],
 "metadata": {
  "kernelspec": {
   "display_name": "mia_vinpearl",
   "language": "python",
   "name": "python3"
  },
  "language_info": {
   "codemirror_mode": {
    "name": "ipython",
    "version": 3
   },
   "file_extension": ".py",
   "mimetype": "text/x-python",
   "name": "python",
   "nbconvert_exporter": "python",
   "pygments_lexer": "ipython3",
   "version": "3.9.13"
  },
  "orig_nbformat": 4,
  "vscode": {
   "interpreter": {
    "hash": "2b1b1157f7bade6e4087e82733fd3f14166e041dbfc1152583bcd0d2d337b04e"
   }
  }
 },
 "nbformat": 4,
 "nbformat_minor": 2
}
