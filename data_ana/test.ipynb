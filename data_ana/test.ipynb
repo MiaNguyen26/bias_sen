{
 "cells": [
  {
   "cell_type": "code",
   "execution_count": 7,
   "metadata": {},
   "outputs": [
    {
     "name": "stdout",
     "output_type": "stream",
     "text": [
      "Number\n"
     ]
    }
   ],
   "source": [
    "import re\n",
    "element = '1.0'\n",
    "if re.match(r'^-?\\d+(?:\\.\\d+)$', element) is None and element.isdigit() == False :\n",
    "    print (\"Not float\")\n",
    "else:\n",
    "    print('Number')"
   ]
  }
 ],
 "metadata": {
  "kernelspec": {
   "display_name": "mia_vinpearl",
   "language": "python",
   "name": "python3"
  },
  "language_info": {
   "codemirror_mode": {
    "name": "ipython",
    "version": 3
   },
   "file_extension": ".py",
   "mimetype": "text/x-python",
   "name": "python",
   "nbconvert_exporter": "python",
   "pygments_lexer": "ipython3",
   "version": "3.9.13"
  },
  "orig_nbformat": 4,
  "vscode": {
   "interpreter": {
    "hash": "2b1b1157f7bade6e4087e82733fd3f14166e041dbfc1152583bcd0d2d337b04e"
   }
  }
 },
 "nbformat": 4,
 "nbformat_minor": 2
}
