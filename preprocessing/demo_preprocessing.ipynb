{
 "cells": [
  {
   "cell_type": "code",
   "execution_count": 16,
   "metadata": {},
   "outputs": [
    {
     "ename": "AttributeError",
     "evalue": "'bool' object has no attribute 'isdigit'",
     "output_type": "error",
     "traceback": [
      "\u001b[0;31m---------------------------------------------------------------------------\u001b[0m",
      "\u001b[0;31mAttributeError\u001b[0m                            Traceback (most recent call last)",
      "\u001b[0;32m/tmp/ipykernel_30179/4138599310.py\u001b[0m in \u001b[0;36m<module>\u001b[0;34m\u001b[0m\n\u001b[1;32m      2\u001b[0m \u001b[0mitem_list\u001b[0m \u001b[0;34m=\u001b[0m \u001b[0;34m[\u001b[0m\u001b[0;34m'item'\u001b[0m\u001b[0;34m,\u001b[0m \u001b[0;34m'foo'\u001b[0m\u001b[0;34m,\u001b[0m\u001b[0;34m'3.14'\u001b[0m\u001b[0;34m,\u001b[0m \u001b[0;32mTrue\u001b[0m\u001b[0;34m,\u001b[0m \u001b[0;34m''\u001b[0m\u001b[0;34m,\u001b[0m \u001b[0;34m'34'\u001b[0m\u001b[0;34m]\u001b[0m\u001b[0;34m\u001b[0m\u001b[0;34m\u001b[0m\u001b[0m\n\u001b[1;32m      3\u001b[0m \u001b[0mre\u001b[0m \u001b[0;34m=\u001b[0m \u001b[0;34m(\u001b[0m\u001b[0;34m'item'\u001b[0m\u001b[0;34m,\u001b[0m \u001b[0;34m''\u001b[0m\u001b[0;34m)\u001b[0m\u001b[0;34m\u001b[0m\u001b[0;34m\u001b[0m\u001b[0m\n\u001b[0;32m----> 4\u001b[0;31m \u001b[0mitem_list\u001b[0m \u001b[0;34m=\u001b[0m \u001b[0;34m[\u001b[0m\u001b[0me\u001b[0m \u001b[0;32mfor\u001b[0m \u001b[0me\u001b[0m \u001b[0;32min\u001b[0m \u001b[0mitem_list\u001b[0m \u001b[0;32mif\u001b[0m \u001b[0me\u001b[0m \u001b[0;32mnot\u001b[0m \u001b[0;32min\u001b[0m \u001b[0mre\u001b[0m \u001b[0;32mand\u001b[0m \u001b[0me\u001b[0m\u001b[0;34m.\u001b[0m\u001b[0misdigit\u001b[0m\u001b[0;34m(\u001b[0m\u001b[0;34m)\u001b[0m\u001b[0;34m==\u001b[0m\u001b[0;32mFalse\u001b[0m\u001b[0;34m]\u001b[0m\u001b[0;34m\u001b[0m\u001b[0;34m\u001b[0m\u001b[0m\n\u001b[0m\u001b[1;32m      5\u001b[0m \u001b[0mprint\u001b[0m\u001b[0;34m(\u001b[0m\u001b[0mitem_list\u001b[0m\u001b[0;34m)\u001b[0m\u001b[0;34m\u001b[0m\u001b[0;34m\u001b[0m\u001b[0m\n",
      "\u001b[0;32m/tmp/ipykernel_30179/4138599310.py\u001b[0m in \u001b[0;36m<listcomp>\u001b[0;34m(.0)\u001b[0m\n\u001b[1;32m      2\u001b[0m \u001b[0mitem_list\u001b[0m \u001b[0;34m=\u001b[0m \u001b[0;34m[\u001b[0m\u001b[0;34m'item'\u001b[0m\u001b[0;34m,\u001b[0m \u001b[0;34m'foo'\u001b[0m\u001b[0;34m,\u001b[0m\u001b[0;34m'3.14'\u001b[0m\u001b[0;34m,\u001b[0m \u001b[0;32mTrue\u001b[0m\u001b[0;34m,\u001b[0m \u001b[0;34m''\u001b[0m\u001b[0;34m,\u001b[0m \u001b[0;34m'34'\u001b[0m\u001b[0;34m]\u001b[0m\u001b[0;34m\u001b[0m\u001b[0;34m\u001b[0m\u001b[0m\n\u001b[1;32m      3\u001b[0m \u001b[0mre\u001b[0m \u001b[0;34m=\u001b[0m \u001b[0;34m(\u001b[0m\u001b[0;34m'item'\u001b[0m\u001b[0;34m,\u001b[0m \u001b[0;34m''\u001b[0m\u001b[0;34m)\u001b[0m\u001b[0;34m\u001b[0m\u001b[0;34m\u001b[0m\u001b[0m\n\u001b[0;32m----> 4\u001b[0;31m \u001b[0mitem_list\u001b[0m \u001b[0;34m=\u001b[0m \u001b[0;34m[\u001b[0m\u001b[0me\u001b[0m \u001b[0;32mfor\u001b[0m \u001b[0me\u001b[0m \u001b[0;32min\u001b[0m \u001b[0mitem_list\u001b[0m \u001b[0;32mif\u001b[0m \u001b[0me\u001b[0m \u001b[0;32mnot\u001b[0m \u001b[0;32min\u001b[0m \u001b[0mre\u001b[0m \u001b[0;32mand\u001b[0m \u001b[0me\u001b[0m\u001b[0;34m.\u001b[0m\u001b[0misdigit\u001b[0m\u001b[0;34m(\u001b[0m\u001b[0;34m)\u001b[0m\u001b[0;34m==\u001b[0m\u001b[0;32mFalse\u001b[0m\u001b[0;34m]\u001b[0m\u001b[0;34m\u001b[0m\u001b[0;34m\u001b[0m\u001b[0m\n\u001b[0m\u001b[1;32m      5\u001b[0m \u001b[0mprint\u001b[0m\u001b[0;34m(\u001b[0m\u001b[0mitem_list\u001b[0m\u001b[0;34m)\u001b[0m\u001b[0;34m\u001b[0m\u001b[0;34m\u001b[0m\u001b[0m\n",
      "\u001b[0;31mAttributeError\u001b[0m: 'bool' object has no attribute 'isdigit'"
     ]
    }
   ],
   "source": [
    "# animals list\n",
    "item_list = ['item', 'foo','3.14', True, '', '34']\n",
    "re = ('item', '')\n",
    "item_list = [e for e in item_list if e not in re  e.isdigit()==False]\n",
    "print(item_list)\n"
   ]
  },
  {
   "cell_type": "code",
   "execution_count": 35,
   "metadata": {},
   "outputs": [
    {
     "name": "stdout",
     "output_type": "stream",
     "text": [
      "<bound method DataFrame.info of                                                  text\n",
      "0                      TrustYou_Survey_0 || Tuyệt vời\n",
      "1   TrustYou_Survey_1 || Gia đình tôi rất hài lòng...\n",
      "2                TrustYou_Survey_2 || Mọi mặt đều tốt\n",
      "3   TrustYou_Survey_3 || Tủ phòng để đồ bị kênh , ...\n",
      "4   TrustYou_Survey_4 || Phong dep , do an ngon , ...\n",
      "..                                                ...\n",
      "95  TrustYou_Survey_95 || Thái độ phục vụ của nhân...\n",
      "96  Booking.com_96 || Bữa sáng đa dạng đồ ăn , như...\n",
      "97  TrustYou_Survey_97 || Lần lưu trú vừa rồi ở Vi...\n",
      "98  TrustYou_Survey_98 || Nhân viên nhiệt tình và ...\n",
      "99  TrustYou_Survey_99 || Phòng có côn trùng , con...\n",
      "\n",
      "[100 rows x 1 columns]>\n"
     ]
    }
   ],
   "source": [
    "#import library\n",
    "import pandas as pd\n",
    "import os, sys\n",
    "import string\n",
    "import pyvi\n",
    "from pyvi import ViTokenizer, ViPosTagger, ViUtils\n",
    "from pathlib import Path\n",
    "sys.path[0] = str(Path(sys.path[0]).parent)\n",
    "\n",
    "from configs import config\n",
    "\n",
    "# print(config.rawPath)\n",
    "\n",
    "filePath = os.path.join(config.rawPath,'trustyou_0.txt')\n",
    "# print(filePath)\n",
    "\n",
    "df = pd.read_csv(filePath, sep='\\t', header=None)\n",
    "df.columns = ['text']\n",
    "print(df.info)\n"
   ]
  },
  {
   "cell_type": "code",
   "execution_count": 5,
   "metadata": {},
   "outputs": [
    {
     "name": "stdout",
     "output_type": "stream",
     "text": [
      "Hello 2\n"
     ]
    }
   ],
   "source": [
    "num = 2\n",
    "at = 'Hello {}'.format(num)\n",
    "at = 'Hello {}'\n",
    "print(at)"
   ]
  },
  {
   "cell_type": "code",
   "execution_count": 40,
   "metadata": {},
   "outputs": [
    {
     "name": "stdout",
     "output_type": "stream",
     "text": [
      "                                                 text\n",
      "0                      TrustYou_Survey_0 || Tuyệt vời\n",
      "1   TrustYou_Survey_1 || Gia đình tôi rất hài lòng...\n",
      "2                TrustYou_Survey_2 || Mọi mặt đều tốt\n",
      "3   TrustYou_Survey_3 || Tủ phòng để đồ bị kênh , ...\n",
      "4   TrustYou_Survey_4 || Phong dep , do an ngon , ...\n",
      "5                  TrustYou_Survey_5 || Phòng sạch sẽ\n",
      "6                    TrustYou_Survey_6 || Dịch vụ tốt\n",
      "7   TrustYou_Survey_7 || Tương đối hài lòng , cần ...\n",
      "8                           Google_8 || Quá tuyệt vời\n",
      "9                 TrustYou_Survey_9 || Tốt thân thiện\n",
      "10  TrustYou_Survey_10 || Lần lưu trú lần này khá ...\n"
     ]
    }
   ],
   "source": [
    "dfN  = df.loc[0:10,:].copy()\n",
    "print(dfN)"
   ]
  },
  {
   "cell_type": "code",
   "execution_count": 41,
   "metadata": {},
   "outputs": [
    {
     "name": "stdout",
     "output_type": "stream",
     "text": [
      "                                                 text  \\\n",
      "0                      TrustYou_Survey_0 || Tuyệt vời   \n",
      "1   TrustYou_Survey_1 || Gia đình tôi rất hài lòng...   \n",
      "2                TrustYou_Survey_2 || Mọi mặt đều tốt   \n",
      "3   TrustYou_Survey_3 || Tủ phòng để đồ bị kênh , ...   \n",
      "4   TrustYou_Survey_4 || Phong dep , do an ngon , ...   \n",
      "5                  TrustYou_Survey_5 || Phòng sạch sẽ   \n",
      "6                    TrustYou_Survey_6 || Dịch vụ tốt   \n",
      "7   TrustYou_Survey_7 || Tương đối hài lòng , cần ...   \n",
      "8                           Google_8 || Quá tuyệt vời   \n",
      "9                 TrustYou_Survey_9 || Tốt thân thiện   \n",
      "10  TrustYou_Survey_10 || Lần lưu trú lần này khá ...   \n",
      "\n",
      "                                                token  \\\n",
      "0                     TrustYou_Survey_0 | | Tuyệt_vời   \n",
      "1   TrustYou_Survey_1 | | Gia_đình tôi rất hài_lòn...   \n",
      "2               TrustYou_Survey_2 | | Mọi mặt đều tốt   \n",
      "3   TrustYou_Survey_3 | | Tủ_phòng để đồ bị kênh ,...   \n",
      "4   TrustYou_Survey_4 | | Phong dep , do an ngon ,...   \n",
      "5                 TrustYou_Survey_5 | | Phòng sạch_sẽ   \n",
      "6                   TrustYou_Survey_6 | | Dịch_vụ tốt   \n",
      "7   TrustYou_Survey_7 | | Tương_đối hài_lòng , cần...   \n",
      "8                          Google_8 | | Quá tuyệt_vời   \n",
      "9                TrustYou_Survey_9 | | Tốt thân_thiện   \n",
      "10  TrustYou_Survey_10 | | Lần lưu_trú lần này khá...   \n",
      "\n",
      "                                          spacy_token  \\\n",
      "0                [TrustYou_Survey_0, |, |, Tuyệt_vời]   \n",
      "1   [TrustYou_Survey_1, |, |, Gia_đình, tôi, rất, ...   \n",
      "2       [TrustYou_Survey_2, |, |, Mọi, mặt, đều, tốt]   \n",
      "3   [TrustYou_Survey_3, |, |, Tủ_phòng, để, đồ, bị...   \n",
      "4   [TrustYou_Survey_4, |, |, Phong, dep, ,, do, a...   \n",
      "5           [TrustYou_Survey_5, |, |, Phòng, sạch_sẽ]   \n",
      "6             [TrustYou_Survey_6, |, |, Dịch_vụ, tốt]   \n",
      "7   [TrustYou_Survey_7, |, |, Tương_đối, hài_lòng,...   \n",
      "8                    [Google_8, |, |, Quá, tuyệt_vời]   \n",
      "9          [TrustYou_Survey_9, |, |, Tốt, thân_thiện]   \n",
      "10  [TrustYou_Survey_10, |, |, Lần, lưu_trú, lần, ...   \n",
      "\n",
      "                                                  pos  \n",
      "0   ([TrustYou_Survey_0, |, |, Tuyệt_vời], [N, F, ...  \n",
      "1   ([TrustYou_Survey_1, |, |, Gia_đình, tôi, rất,...  \n",
      "2   ([TrustYou_Survey_2, |, |, Mọi, mặt, đều, tốt]...  \n",
      "3   ([TrustYou_Survey_3, |, |, Tủ_phòng, để, đồ, b...  \n",
      "4   ([TrustYou_Survey_4, |, |, Phong, dep, ,, do, ...  \n",
      "5   ([TrustYou_Survey_5, |, |, Phòng, sạch_sẽ], [N...  \n",
      "6   ([TrustYou_Survey_6, |, |, Dịch_vụ, tốt], [N, ...  \n",
      "7   ([TrustYou_Survey_7, |, |, Tương_đối, hài_lòng...  \n",
      "8   ([Google_8, |, |, Quá, tuyệt_vời], [Np, F, F, ...  \n",
      "9   ([TrustYou_Survey_9, |, |, Tốt, thân_thiện], [...  \n",
      "10  ([TrustYou_Survey_10, |, |, Lần, lưu_trú, lần,...  \n"
     ]
    }
   ],
   "source": [
    "# dfN['accent'] = dfN['text'].apply(lambda x: [ViUtils.add_accents(word) for word in x]) \n",
    "dfN['token'] = dfN['text'].apply(ViTokenizer.tokenize)\n",
    "dfN['spacy_token'] = dfN['text'].apply(lambda x: ViTokenizer.spacy_tokenize(x)[0])\n",
    "dfN['pos'] = dfN['spacy_token'].apply(ViPosTagger.postagging_tokens)\n",
    "print(dfN)\n",
    "# dfN.to_csv('/home/user/Desktop/review/',index=False)"
   ]
  },
  {
   "cell_type": "code",
   "execution_count": 38,
   "metadata": {},
   "outputs": [
    {
     "name": "stdout",
     "output_type": "stream",
     "text": [
      "                                                 text  \\\n",
      "0                      TrustYou_Survey_0 || Tuyệt vời   \n",
      "1   TrustYou_Survey_1 || Gia đình tôi rất hài lòng...   \n",
      "2                TrustYou_Survey_2 || Mọi mặt đều tốt   \n",
      "3   TrustYou_Survey_3 || Tủ phòng để đồ bị kênh , ...   \n",
      "4   TrustYou_Survey_4 || Phong dep , do an ngon , ...   \n",
      "5                  TrustYou_Survey_5 || Phòng sạch sẽ   \n",
      "6                    TrustYou_Survey_6 || Dịch vụ tốt   \n",
      "7   TrustYou_Survey_7 || Tương đối hài lòng , cần ...   \n",
      "8                           Google_8 || Quá tuyệt vời   \n",
      "9                 TrustYou_Survey_9 || Tốt thân thiện   \n",
      "10  TrustYou_Survey_10 || Lần lưu trú lần này khá ...   \n",
      "\n",
      "                                          spacy_token  \\\n",
      "0                [TrustYou_Survey_0, |, |, Tuyệt_vời]   \n",
      "1   [TrustYou_Survey_1, |, |, Gia_đình, tôi, rất, ...   \n",
      "2       [TrustYou_Survey_2, |, |, Mọi, mặt, đều, tốt]   \n",
      "3   [TrustYou_Survey_3, |, |, Tủ_phòng, để, đồ, bị...   \n",
      "4   [TrustYou_Survey_4, |, |, Phong, dep, ,, do, a...   \n",
      "5           [TrustYou_Survey_5, |, |, Phòng, sạch_sẽ]   \n",
      "6             [TrustYou_Survey_6, |, |, Dịch_vụ, tốt]   \n",
      "7   [TrustYou_Survey_7, |, |, Tương_đối, hài_lòng,...   \n",
      "8                    [Google_8, |, |, Quá, tuyệt_vời]   \n",
      "9          [TrustYou_Survey_9, |, |, Tốt, thân_thiện]   \n",
      "10  [TrustYou_Survey_10, |, |, Lần, lưu_trú, lần, ...   \n",
      "\n",
      "                                                  pos  \\\n",
      "0   ([TrustYou_Survey_0, |, |, Tuyệt_vời], [N, F, ...   \n",
      "1   ([TrustYou_Survey_1, |, |, Gia_đình, tôi, rất,...   \n",
      "2   ([TrustYou_Survey_2, |, |, Mọi, mặt, đều, tốt]...   \n",
      "3   ([TrustYou_Survey_3, |, |, Tủ_phòng, để, đồ, b...   \n",
      "4   ([TrustYou_Survey_4, |, |, Phong, dep, ,, do, ...   \n",
      "5   ([TrustYou_Survey_5, |, |, Phòng, sạch_sẽ], [N...   \n",
      "6   ([TrustYou_Survey_6, |, |, Dịch_vụ, tốt], [N, ...   \n",
      "7   ([TrustYou_Survey_7, |, |, Tương_đối, hài_lòng...   \n",
      "8   ([Google_8, |, |, Quá, tuyệt_vời], [Np, F, F, ...   \n",
      "9   ([TrustYou_Survey_9, |, |, Tốt, thân_thiện], [...   \n",
      "10  ([TrustYou_Survey_10, |, |, Lần, lưu_trú, lần,...   \n",
      "\n",
      "                                                lower  \n",
      "0                [trustyou_survey_0, |, |, tuyệt_vời]  \n",
      "1   [trustyou_survey_1, |, |, gia_đình, tôi, rất, ...  \n",
      "2       [trustyou_survey_2, |, |, mọi, mặt, đều, tốt]  \n",
      "3   [trustyou_survey_3, |, |, tủ_phòng, để, đồ, bị...  \n",
      "4   [trustyou_survey_4, |, |, phong, dep, ,, do, a...  \n",
      "5           [trustyou_survey_5, |, |, phòng, sạch_sẽ]  \n",
      "6             [trustyou_survey_6, |, |, dịch_vụ, tốt]  \n",
      "7   [trustyou_survey_7, |, |, tương_đối, hài_lòng,...  \n",
      "8                    [google_8, |, |, quá, tuyệt_vời]  \n",
      "9          [trustyou_survey_9, |, |, tốt, thân_thiện]  \n",
      "10  [trustyou_survey_10, |, |, lần, lưu_trú, lần, ...  \n"
     ]
    }
   ],
   "source": [
    "dfN['lower'] = dfN['spacy_token'].apply(lambda x: [word.lower() for word in x])\n",
    "print(dfN)"
   ]
  },
  {
   "cell_type": "code",
   "execution_count": 28,
   "metadata": {},
   "outputs": [
    {
     "name": "stdout",
     "output_type": "stream",
     "text": [
      "<bound method DataFrame.info of                                                  text\n",
      "0   Google_100 || Đi hớ nì mun ở đây , rất thích p...\n",
      "1                     TrustYou_Survey_101 || Hài Lòng\n",
      "2   Google_102 || Khách sạn thực là đắt nhưng cũng...\n",
      "3   TrustYou_Survey_103 || Chất lượng tốt , dịch v...\n",
      "4             Google_104 || Ok , phong cách hoàng gia\n",
      "..                                                ...\n",
      "95              Google_195 || Nơi nghỉ dưỡng lý tưởng\n",
      "96                           Google_196 || Sang trọng\n",
      "97  Google_197 || Villa đẹp , tiện nghi , bể bơi r...\n",
      "98  Booking.com_198 || Phòng đẹp - Sạch sẽ - Vị tr...\n",
      "99  Google_199 || » Cách bờ biển 250 m , ( Căn hộ ...\n",
      "\n",
      "[100 rows x 1 columns]>\n"
     ]
    }
   ],
   "source": [
    "filePath2 = os.path.join(config.rawPath,'trustyou_1.txt')\n",
    "df2 = pd.read_csv(filePath2, sep='\\t', header=None, names=['text'])\n",
    "print(df2.info)"
   ]
  },
  {
   "cell_type": "code",
   "execution_count": 30,
   "metadata": {},
   "outputs": [
    {
     "name": "stdout",
     "output_type": "stream",
     "text": [
      "<bound method DataFrame.info of                                                   text\n",
      "0                       TrustYou_Survey_0 || Tuyệt vời\n",
      "1    TrustYou_Survey_1 || Gia đình tôi rất hài lòng...\n",
      "2                 TrustYou_Survey_2 || Mọi mặt đều tốt\n",
      "3    TrustYou_Survey_3 || Tủ phòng để đồ bị kênh , ...\n",
      "4    TrustYou_Survey_4 || Phong dep , do an ngon , ...\n",
      "..                                                 ...\n",
      "195              Google_195 || Nơi nghỉ dưỡng lý tưởng\n",
      "196                           Google_196 || Sang trọng\n",
      "197  Google_197 || Villa đẹp , tiện nghi , bể bơi r...\n",
      "198  Booking.com_198 || Phòng đẹp - Sạch sẽ - Vị tr...\n",
      "199  Google_199 || » Cách bờ biển 250 m , ( Căn hộ ...\n",
      "\n",
      "[200 rows x 1 columns]>\n"
     ]
    }
   ],
   "source": [
    "df = pd.concat([df, df2], ignore_index=True)\n",
    "print(df.info)"
   ]
  },
  {
   "cell_type": "code",
   "execution_count": 10,
   "metadata": {},
   "outputs": [
    {
     "name": "stdout",
     "output_type": "stream",
     "text": [
      "a1 = /home/user/Desktop/review/data/webanno_raw\n",
      "a2=   []\n",
      "a2=   ['trustyou_75.txt', 'trustyou_52.txt', 'trustyou_30.txt', 'trustyou_74.txt', 'trustyou_25.txt', 'trustyou_63.txt', 'trustyou_69.txt', 'trustyou_61.txt', 'trustyou_39.txt', 'trustyou_7.txt', 'trustyou_28.txt', 'trustyou_66.txt', 'trustyou_82.txt', 'trustyou_58.txt', 'trustyou_60.txt', 'trustyou_10.txt', 'trustyou_78.txt', 'trustyou_5.txt', 'trustyou_19.txt', 'trustyou_73.txt', 'trustyou_3.txt', 'trustyou_44.txt', 'trustyou_9.txt', 'trustyou_65.txt', 'trustyou_1.txt', 'trustyou_36.txt', 'trustyou_72.txt', 'trustyou_45.txt', 'trustyou_15.txt', 'trustyou_23.txt', 'trustyou_51.txt', 'trustyou_20.txt', 'trustyou_55.txt', 'trustyou_11.txt', 'trustyou_24.txt', 'trustyou_48.txt', 'trustyou_13.txt', 'trustyou_4.txt', 'trustyou_14.txt', 'trustyou_35.txt', 'trustyou_50.txt', 'trustyou_2.txt', 'trustyou_54.txt', 'trustyou_17.txt', 'trustyou_38.txt', 'trustyou_12.txt', 'trustyou_27.txt', 'trustyou_43.txt', 'trustyou_8.txt', 'trustyou_22.txt', 'trustyou_59.txt', 'trustyou_32.txt', 'trustyou_21.txt', 'trustyou_34.txt', 'trustyou_37.txt', 'trustyou_31.txt', 'trustyou_46.txt', 'trustyou_80.txt', 'trustyou_77.txt', 'trustyou_76.txt', 'trustyou_70.txt', 'trustyou_81.txt', 'trustyou_56.txt', 'trustyou_62.txt', 'trustyou_83.txt', 'trustyou_67.txt', 'trustyou_57.txt', 'trustyou_41.txt', 'trustyou_33.txt', 'trustyou_16.txt', 'trustyou_64.txt', 'trustyou_42.txt', 'trustyou_85.txt', 'trustyou_40.txt', 'trustyou_18.txt', 'trustyou_84.txt', 'trustyou_49.txt', 'trustyou_53.txt', 'trustyou_47.txt', 'trustyou_68.txt', 'trustyou_71.txt', 'trustyou_26.txt', 'trustyou_29.txt', 'trustyou_6.txt', 'trustyou_79.txt', 'trustyou_0.txt']\n"
     ]
    }
   ],
   "source": [
    "for dirPath, dirNames, fileNames in os.walk(config.rawPath):\n",
    "    print('a1 =', dirPath)\n",
    "    print('a2=  ', dirNames)\n",
    "    print('a2=  ', fileNames)\n",
    "    \n",
    "    "
   ]
  },
  {
   "cell_type": "code",
   "execution_count": 33,
   "metadata": {},
   "outputs": [
    {
     "name": "stdout",
     "output_type": "stream",
     "text": [
      "['trustyou_0.txt', 'trustyou_1.txt', 'trustyou_10.txt', 'trustyou_11.txt', 'trustyou_12.txt', 'trustyou_13.txt', 'trustyou_14.txt', 'trustyou_15.txt', 'trustyou_16.txt', 'trustyou_17.txt', 'trustyou_18.txt', 'trustyou_19.txt', 'trustyou_2.txt', 'trustyou_20.txt', 'trustyou_21.txt', 'trustyou_22.txt', 'trustyou_23.txt', 'trustyou_24.txt', 'trustyou_25.txt', 'trustyou_26.txt', 'trustyou_27.txt', 'trustyou_28.txt', 'trustyou_29.txt', 'trustyou_3.txt', 'trustyou_30.txt', 'trustyou_31.txt', 'trustyou_32.txt', 'trustyou_33.txt', 'trustyou_34.txt', 'trustyou_35.txt', 'trustyou_36.txt', 'trustyou_37.txt', 'trustyou_38.txt', 'trustyou_39.txt', 'trustyou_4.txt', 'trustyou_40.txt', 'trustyou_41.txt', 'trustyou_42.txt', 'trustyou_43.txt', 'trustyou_44.txt', 'trustyou_45.txt', 'trustyou_46.txt', 'trustyou_47.txt', 'trustyou_48.txt', 'trustyou_49.txt', 'trustyou_5.txt', 'trustyou_50.txt', 'trustyou_51.txt', 'trustyou_52.txt', 'trustyou_53.txt', 'trustyou_54.txt', 'trustyou_55.txt', 'trustyou_56.txt', 'trustyou_57.txt', 'trustyou_58.txt', 'trustyou_59.txt', 'trustyou_6.txt', 'trustyou_60.txt', 'trustyou_61.txt', 'trustyou_62.txt', 'trustyou_63.txt', 'trustyou_64.txt', 'trustyou_65.txt', 'trustyou_66.txt', 'trustyou_67.txt', 'trustyou_68.txt', 'trustyou_69.txt', 'trustyou_7.txt', 'trustyou_70.txt', 'trustyou_71.txt', 'trustyou_72.txt', 'trustyou_73.txt', 'trustyou_74.txt', 'trustyou_75.txt', 'trustyou_76.txt', 'trustyou_77.txt', 'trustyou_78.txt', 'trustyou_79.txt', 'trustyou_8.txt', 'trustyou_80.txt', 'trustyou_81.txt', 'trustyou_82.txt', 'trustyou_83.txt', 'trustyou_84.txt', 'trustyou_85.txt', 'trustyou_9.txt']\n"
     ]
    }
   ],
   "source": [
    "txtFiles = os.listdir(config.rawPath)\n",
    "txtFiles.sort()\n",
    "print(txtFiles)\n"
   ]
  },
  {
   "cell_type": "code",
   "execution_count": null,
   "metadata": {},
   "outputs": [],
   "source": []
  },
  {
   "cell_type": "code",
   "execution_count": null,
   "metadata": {},
   "outputs": [],
   "source": []
  }
 ],
 "metadata": {
  "kernelspec": {
   "display_name": "base",
   "language": "python",
   "name": "python3"
  },
  "language_info": {
   "codemirror_mode": {
    "name": "ipython",
    "version": 3
   },
   "file_extension": ".py",
   "mimetype": "text/x-python",
   "name": "python",
   "nbconvert_exporter": "python",
   "pygments_lexer": "ipython3",
   "version": "3.9.13"
  },
  "orig_nbformat": 4,
  "vscode": {
   "interpreter": {
    "hash": "1448b48b023bcc9c3d4a79e814720a10ca6d4244f75e0f7ce4af58f96ba2b7d3"
   }
  }
 },
 "nbformat": 4,
 "nbformat_minor": 2
}
